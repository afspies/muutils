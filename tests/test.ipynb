{
 "cells": [
  {
   "cell_type": "code",
   "execution_count": 7,
   "metadata": {},
   "outputs": [],
   "source": [
    "import torch\n",
    "import typing\n",
    "import muutils.tensor_utils as tu\n"
   ]
  },
  {
   "cell_type": "code",
   "execution_count": 2,
   "metadata": {},
   "outputs": [
    {
     "name": "stdout",
     "output_type": "stream",
     "text": [
      "<class 'jaxtyping.Float[Tensor, 'abc']'>\n",
      "<class 'jaxtyping.Int[Tensor, 'abc']'>\n",
      "<class 'jaxtyping.Float[Tensor, 'a b']'>\n",
      "<class 'jaxtyping.Int[Tensor, 'a b']'>\n",
      "<class 'jaxtyping.Float[Tensor, 'a b']'>\n",
      "<class 'jaxtyping.Float[Tensor, 'a1 b2']'>\n"
     ]
    }
   ],
   "source": [
    "print('\\n'.join(\n",
    "\trepr(x) for x in \n",
    "\t[\n",
    "\t\ttu.ATensor[\"abc\"],\n",
    "\t\ttu.ATensor[\"abc\", int],\n",
    "\t\ttu.ATensor[(\"a\", \"b\"), float],\n",
    "\t\ttu.ATensor[(\"a\", \"b\"), int],\n",
    "\t\ttu.ATensor[(\"a\", \"b\"), float],\n",
    "\t\ttu.ATensor[((\"a\", 1), (\"b\", 2)), float],\n",
    "\t]\n",
    "))"
   ]
  },
  {
   "cell_type": "code",
   "execution_count": 3,
   "metadata": {},
   "outputs": [],
   "source": [
    "\n",
    "mymodel = torch.nn.Linear(10, 10)\n",
    "\n",
    "optim = torch.optim.Adam(mymodel.parameters(), lr=0.001)"
   ]
  },
  {
   "cell_type": "code",
   "execution_count": 9,
   "metadata": {},
   "outputs": [
    {
     "name": "stdout",
     "output_type": "stream",
     "text": [
      "type(torch.optim.Adam) = <class 'type'>\n",
      "torch.optim.Adam = <class 'torch.optim.adam.Adam'>\n"
     ]
    },
    {
     "data": {
      "text/plain": [
       "typing.Type[torch.optim.optimizer.Optimizer]"
      ]
     },
     "execution_count": 9,
     "metadata": {},
     "output_type": "execute_result"
    }
   ],
   "source": [
    "print(f\"{type(torch.optim.Adam) = }\\n{torch.optim.Adam = }\")\n",
    "\n",
    "\n",
    "typing.Type[torch.optim.Optimizer]"
   ]
  },
  {
   "cell_type": "code",
   "execution_count": 13,
   "metadata": {},
   "outputs": [
    {
     "data": {
      "text/plain": [
       "(torch.nn.modules.loss.CrossEntropyLoss,\n",
       " torch.nn.modules.loss._WeightedLoss,\n",
       " torch.nn.modules.loss._Loss,\n",
       " torch.nn.modules.module.Module,\n",
       " object)"
      ]
     },
     "execution_count": 13,
     "metadata": {},
     "output_type": "execute_result"
    }
   ],
   "source": [
    "# pytorch cross entropy loss\n",
    "torch.nn.CrossEntropyLoss.__mro__"
   ]
  }
 ],
 "metadata": {
  "kernelspec": {
   "display_name": "Python 3",
   "language": "python",
   "name": "python3"
  },
  "language_info": {
   "codemirror_mode": {
    "name": "ipython",
    "version": 3
   },
   "file_extension": ".py",
   "mimetype": "text/x-python",
   "name": "python",
   "nbconvert_exporter": "python",
   "pygments_lexer": "ipython3",
   "version": "3.10.1"
  },
  "orig_nbformat": 4,
  "vscode": {
   "interpreter": {
    "hash": "826cdf1d6a1d995932fcc4b02bd7049699ce423053098b308e34496c9b855014"
   }
  }
 },
 "nbformat": 4,
 "nbformat_minor": 2
}
